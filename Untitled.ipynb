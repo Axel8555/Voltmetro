{
 "cells": [
  {
   "cell_type": "code",
   "execution_count": null,
   "id": "83d03a48",
   "metadata": {},
   "outputs": [],
   "source": [
    "import serial\n",
    "\n",
    "# Configuración del puerto serie\n",
    "puerto = 'COM7'  # Reemplaza 'COMX' con el número de puerto adecuado, por ejemplo, 'COM3'\n",
    "baudios = 9600  # Ajusta la velocidad de baudios según la configuración del HC-05\n",
    "\n",
    "# Inicialización del objeto Serial\n",
    "ser = serial.Serial(puerto, baudios)\n",
    "\n",
    "while True:\n",
    "    try:\n",
    "        # Leer los datos del puerto serie\n",
    "        datos = ser.read(1).strip()#line().decode().strip()\n",
    "        if datos:\n",
    "        \tprint(\"Datos recibidos: \",int.from_bytes(datos, \"little\"))\n",
    "\n",
    "    except KeyboardInterrupt:\n",
    "        # Manejar la interrupción de teclado (Ctrl+C)\n",
    "        print(\"Programa terminado.\")\n",
    "        break\n",
    "\n",
    "# Cerrar el puerto serie al finalizar\n",
    "ser.close()\n"
   ]
  }
 ],
 "metadata": {
  "kernelspec": {
   "display_name": "Python 3 (ipykernel)",
   "language": "python",
   "name": "python3"
  },
  "language_info": {
   "codemirror_mode": {
    "name": "ipython",
    "version": 3
   },
   "file_extension": ".py",
   "mimetype": "text/x-python",
   "name": "python",
   "nbconvert_exporter": "python",
   "pygments_lexer": "ipython3",
   "version": "3.9.12"
  }
 },
 "nbformat": 4,
 "nbformat_minor": 5
}
